{
 "cells": [
  {
   "cell_type": "markdown",
   "id": "321901db-d564-4bb8-bb96-7b3112356621",
   "metadata": {
    "tags": []
   },
   "source": [
    "# Day 4: データ可視化\n",
    "Day 4では，関係データベースなどのデータセットから抽出・集約したデータを使って，効果的な説明・考察を行うためのデータ可視化方法に関する演習を行う．\n",
    "演習の目的は，データ可視化のためのツールの修得ではない．目的に応じた適切なデータ可視化手法を理解することにある．\n",
    "そのため，Day 4では（データ可視化のためのツールの使い方を体験する）ドリルは設けておらず，レポート課題のみを用意した．\n",
    "レポート課題で扱うデータは，仮想の小売店（杏森堂）の関係データベースに保存された購買データである．\n",
    "\n",
    "データ可視化のためのツールは特に指定しない．データ可視化を行うツールとして，\n",
    "* 手軽ものとしてはExcel，\n",
    "* 可視化の手続きをコード化できるものとしてRのggplot2，Pythonのmatplotlib，plotlyなど\n",
    "\n",
    "があるが，どのツールを利用しても問題はない．\n",
    "\n",
    "\n",
    "なお，Day 2からDay 5の演習で用いるデータセットは，[データサイエンス100本ノック（構造化データ加工編）](https://github.com/The-Japan-DataScientist-Society/100knocks-preprocess)で提供されているデータセットをSQLite形式に変換したものである．「課題」は完全に山本が作成したものである．\n",
    "\n",
    "---"
   ]
  },
  {
   "cell_type": "markdown",
   "id": "0551efe8-3185-49df-a84c-c95e2b330210",
   "metadata": {
    "tags": []
   },
   "source": [
    "## SQL利用環境セットアップ\n",
    "SQLiteはWindows/Mac/LinuxどのOSでもインストールして利用することができる．本演習は環境構築の手間をできるだけ減らすために，Google Colaboratory上でSQLiteを用いる．\n",
    "\n",
    "Googleにログインした状態で[本演習サイト](https://data-analytics2022.hontolab.org)の各回の「ドリル（模範解答なし）」のリンクをクリックすると，あなた用のGoogle Colaboratoyがブラウザ上で立ち上がり，各回のドリル・課題を行うためのページが表示される．\n",
    "ページが表示されたら，以下のコードが書かれた箇所（セル）を実行しよう．すると，Google Colaboratory上でSQLiteを実行するための環境が用意される．\n",
    "\n",
    "なお，Google Colaboratory上でコードを実行するには，以下の2つの方法がある：\n",
    "* 「再生ボタン」をクリックする\n",
    "* コードが書かれたセルをクリックし，Shift + Enterキーを押す"
   ]
  },
  {
   "cell_type": "code",
   "execution_count": null,
   "id": "629fb332-b16f-4505-9320-5a3e18d073c8",
   "metadata": {},
   "outputs": [],
   "source": [
    "# Google Colaboratory上のSQLiteをアップグレードする\n",
    "import sys\n",
    "if 'google.colab' in sys.modules:\n",
    "    !gdown --id 1BSHIKQ7rFw5BpTq5nw1UZfjPK_7Mpnbi -O /usr/lib/python3.7/lib-dynload/"
   ]
  },
  {
   "cell_type": "markdown",
   "id": "2227c62a-14c4-40c6-9e2c-f7ba41b81e62",
   "metadata": {},
   "source": [
    "上記コードを実行したら，アップグレード版SQLiteを使うために，Google Colaboratoryを再起動させよう．\n",
    "再起動の方法は，画面上部の`Runtime`から`Restart Runtime`をクリックする．\n",
    "\n",
    "再起動が完了したら，コードを実行しよう．以下のコードはGoogle Colab（Jupyter）上でSQLを対話的に利用するためのおまじないである．"
   ]
  },
  {
   "cell_type": "code",
   "execution_count": null,
   "id": "4c8b9005-3634-4ff6-a29f-1c94b39cd07c",
   "metadata": {},
   "outputs": [],
   "source": [
    "# ipython-sqlがインストールされていない場合\n",
    "!pip install ipython-sql"
   ]
  },
  {
   "cell_type": "markdown",
   "id": "9e556bb9-061e-44f5-a473-643ec834fcd0",
   "metadata": {},
   "source": [
    "英文が数行表示された後，SQLiteがインストールされる． \n",
    "\n",
    "続いて，演習で用いる購買データが収められたSQLiteデータベースをダウンロードしよう． 以下のコードを実行すると，Google Colaboratory上にデータベースがダウンロードされる．"
   ]
  },
  {
   "cell_type": "code",
   "execution_count": null,
   "id": "06c964a0-6b81-4f11-bfa1-b29097aeff9f",
   "metadata": {},
   "outputs": [],
   "source": [
    "# SQLiteデータベース（data-analytics-lecture.db）のファイルをダウンロード\n",
    "import os\n",
    "if not os.path.exists('data/data-analytics-lecture.db'):\n",
    "    !wget -P data https://github.com/hontolab-courses/data-analytics-2022/raw/main/data/data-analytics-lecture.db"
   ]
  },
  {
   "cell_type": "markdown",
   "id": "ab262c05-d5cc-4653-9d03-23aef93ca823",
   "metadata": {},
   "source": [
    "データベースがダウンロードできたら，データをロードしておこう．\n",
    "以下のコードを実行すると，Google Colaboratory上でダウンロードしたSQLiteデータベースを操作できるようになる．"
   ]
  },
  {
   "cell_type": "code",
   "execution_count": null,
   "id": "964a1b32-cb0e-4b4b-b009-4e2e294ba0e2",
   "metadata": {},
   "outputs": [],
   "source": [
    "%load_ext sql\n",
    "%sql sqlite:///data/data-analytics-lecture.db"
   ]
  },
  {
   "cell_type": "markdown",
   "id": "60293e6c-c294-46bb-8411-35a178bb4439",
   "metadata": {},
   "source": [
    "なお，Google Colaboratoryはセッションを閉じると，環境が初期化され，以前に自前でインストールしたライブラリが削除される．\n",
    "Google Colaboratoryを使って演習に取り組む際には，上記コードを毎回忘れず実行しよう．"
   ]
  },
  {
   "cell_type": "markdown",
   "id": "a0e8a3b2-14a0-4f3e-8a18-1b2cc3835a1b",
   "metadata": {},
   "source": [
    "---"
   ]
  },
  {
   "cell_type": "markdown",
   "id": "cb9edfcb-4980-4f46-b952-e1905c1be25a",
   "metadata": {
    "tags": []
   },
   "source": [
    "## Google Colaboratory上でのSQLの実行方法"
   ]
  },
  {
   "cell_type": "markdown",
   "id": "0aedac9e-4ec5-4889-a2d3-a263555358fb",
   "metadata": {
    "tags": []
   },
   "source": [
    "Google Colaboratoryでは，以下のようにセルの冒頭に`%%sql`と書き，2行目以降にSQL文を書くとSQLを実行することができる．\n",
    "試しに以下のSQLを実行してみよう．"
   ]
  },
  {
   "cell_type": "code",
   "execution_count": null,
   "id": "6d090205-99d2-46a0-b56d-817d40e108bf",
   "metadata": {},
   "outputs": [],
   "source": [
    "%%sql\n",
    "\n",
    "SELECT\n",
    "    name AS table_name\n",
    "FROM\n",
    "    sqlite_master\n",
    "WHERE\n",
    "    type = 'table';"
   ]
  },
  {
   "cell_type": "markdown",
   "id": "7ad10f12-301d-4eb2-be80-144587992d8d",
   "metadata": {},
   "source": [
    "上記SQLは，データベースに格納されたテーブルの一覧を表示するものである．\n",
    "ダウンロードしたSQLiteデータベース，つまり今回扱う杏森堂のデータベースには，**6つ**のテーブルが格納されていることが分かる．なお，対象データベースの構造が記された実体関連図（ER図）は[コチラ](https://github.com/hontolab-courses/data-analytics-2022/raw/main/doc/ER-diagram.pdf)から確認することできる．\n",
    "\n",
    "課題とドリルに取り組む前に，あと1つ，別のSQLを実行してみよう．\n",
    "以下のSQLを実行すると，`receipt`テーブルの最初の10件を表示することができる\n",
    "（SQL文に`LIMIT`を付けないと，テーブル内の全データが表示されてしまうので注意）．"
   ]
  },
  {
   "cell_type": "code",
   "execution_count": null,
   "id": "9c0d75a1-a5d3-406d-9860-8c0f6b48e9df",
   "metadata": {},
   "outputs": [],
   "source": [
    "%%sql\n",
    "\n",
    "SELECT * FROM receipt LIMIT 10; "
   ]
  },
  {
   "cell_type": "markdown",
   "id": "8701212c-12a5-4c91-838e-c5471a4575e0",
   "metadata": {
    "tags": []
   },
   "source": [
    "## ★ SQLの実行結果をCSVに保存したい場合\n",
    "以下のように，セルの冒頭に`%%sql 一時保存先の変数名 <<`と書き，2行目以降にSQL文を書いて実行しよう．"
   ]
  },
  {
   "cell_type": "code",
   "execution_count": null,
   "id": "067f656b-80c4-49f6-a261-23800d23e02d",
   "metadata": {},
   "outputs": [],
   "source": [
    "%%sql records <<\n",
    "\n",
    "SELECT * FROM receipt LIMIT 10; "
   ]
  },
  {
   "cell_type": "markdown",
   "id": "8d2cafaf-0106-4ca0-a6f9-8c56255fe8c9",
   "metadata": {},
   "source": [
    "その後以下のコマンドを実行することで，SQLの実行結果を格納したCSVファイルを作成することができる．作成したCSVファイルは，画面左のサイドバーにあるファイル一覧からダウンロードできる．"
   ]
  },
  {
   "cell_type": "code",
   "execution_count": null,
   "id": "d3cfe815-fc19-4b9a-8199-b40baf3a7ead",
   "metadata": {},
   "outputs": [],
   "source": [
    "# records.csvは任意のファイル名にできる\n",
    "records.csv(filename=\"data/records.csv\")"
   ]
  },
  {
   "cell_type": "markdown",
   "id": "5db76f52-88b6-4a6d-94d1-d8e9ce02251b",
   "metadata": {},
   "source": [
    "---"
   ]
  },
  {
   "cell_type": "markdown",
   "id": "d4388663-1930-4eda-9a45-cc7919baec9f",
   "metadata": {},
   "source": [
    "## 課題4"
   ]
  },
  {
   "cell_type": "markdown",
   "id": "73febd48-25a0-4555-8208-8dab333d77e0",
   "metadata": {},
   "source": [
    "### 課題4-1\n",
    "顧客ごとに購買頻度（購買回数）を求め，購買頻度の分布を説明するためのグラフを作成せよ．また，グラフから読み取れることを文章で記述せよ．ただし，顧客ID（`customer_id`）が\"Z\"から始まるのものは非会員を表すため，除外して分析すること．\n",
    "\n",
    "なおレポートには，顧客ごとに購買頻度（購買回数）を求めるためのSQL文も付しておくこと（SQL文の実行結果は掲載する必要なし）．"
   ]
  },
  {
   "cell_type": "code",
   "execution_count": null,
   "id": "57d7703e-1659-4271-bace-6b25b2efa641",
   "metadata": {},
   "outputs": [],
   "source": [
    "%%sql\n"
   ]
  },
  {
   "cell_type": "markdown",
   "id": "a45e30e8-dafe-4d6e-a1d8-afffdcd7fc8e",
   "metadata": {},
   "source": [
    "### 課題4-2\n",
    "都道府県別に年月別の売上総額を求め，その売上総額の変化を比較するためのグラフを作成せよ．また，グラフから読み取れることを文章で記述せよ．\n",
    "\n",
    "なおレポートには，都道府県別の年月別売上総額を求めるためのSQL文も付しておくこと（SQL文の実行結果は掲載する必要なし）．"
   ]
  },
  {
   "cell_type": "code",
   "execution_count": null,
   "id": "abf8c9b9-0a5b-46df-b6b7-4f8fcef4cae0",
   "metadata": {},
   "outputs": [],
   "source": [
    "%%sql\n"
   ]
  },
  {
   "cell_type": "markdown",
   "id": "013518d8-9e79-4097-bd1b-bbf872e4b918",
   "metadata": {},
   "source": [
    "### 課題4-3\n",
    "顧客一人あたりの売上総額の分布を，千葉県の店舗ごとに比較するためのグラフを作成せよ．また，グラフから読み取れることを文章で記述せよ．ただし，顧客ID（`customer_id`）が\"Z\"から始まるのものは非会員を表すため，除外して分析すること．\n",
    "\n",
    "なおレポートには，店舗ごとにその店舗を利用した各顧客の売上総額を集計するSQL文も付しておくこと（SQL文の実行結果は掲載する必要なし）．"
   ]
  },
  {
   "cell_type": "code",
   "execution_count": null,
   "id": "c4d8dfcb-7f6d-4dc9-b107-35fb032dd23c",
   "metadata": {},
   "outputs": [],
   "source": [
    "%%sql\n"
   ]
  },
  {
   "cell_type": "markdown",
   "id": "6ba3f233-609c-4526-ac01-e08d2c30fec6",
   "metadata": {},
   "source": [
    "### 課題4-4\n",
    "千葉県にある店舗間で顧客が購入する菓子の傾向が異なるかどうかを分析したい．千葉県にある店舗と菓子の中カテゴリ（cateogory_medium_cd）ごとに菓子の購入量（個数）を集計し，購入された菓子の中カテゴリの内訳を店舗間で比較するためのグラフを作成せよ．また，グラフから読み取れることを文章で記述せよ．\n",
    "\n",
    "なおレポートには，購入量を集計するためのSQL文も付しておくこと（SQL文の実行結果は掲載する必要なし）．"
   ]
  },
  {
   "cell_type": "code",
   "execution_count": null,
   "id": "60fff783-7dde-45b4-854f-b01a564e24fc",
   "metadata": {},
   "outputs": [],
   "source": [
    "%%sql\n"
   ]
  }
 ],
 "metadata": {
  "kernelspec": {
   "display_name": "Python 3 (ipykernel)",
   "language": "python",
   "name": "python3"
  },
  "language_info": {
   "codemirror_mode": {
    "name": "ipython",
    "version": 3
   },
   "file_extension": ".py",
   "mimetype": "text/x-python",
   "name": "python",
   "nbconvert_exporter": "python",
   "pygments_lexer": "ipython3",
   "version": "3.9.8"
  },
  "toc-autonumbering": false,
  "toc-showcode": false,
  "toc-showmarkdowntxt": false,
  "toc-showtags": false
 },
 "nbformat": 4,
 "nbformat_minor": 5
}
